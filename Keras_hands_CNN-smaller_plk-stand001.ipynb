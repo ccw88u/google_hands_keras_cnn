{
 "cells": [
  {
   "cell_type": "code",
   "execution_count": 1,
   "metadata": {
    "collapsed": false
   },
   "outputs": [
    {
     "name": "stderr",
     "output_type": "stream",
     "text": [
      "Using TensorFlow backend.\n"
     ]
    }
   ],
   "source": [
    "# Simple CNN model for the google hands Dataset\n",
    "import numpy\n",
    "import math\n",
    "import random as rnd\n",
    "from keras.datasets import cifar10\n",
    "import numpy as np\n",
    "np.random.seed(10)"
   ]
  },
  {
   "cell_type": "code",
   "execution_count": 2,
   "metadata": {
    "collapsed": true
   },
   "outputs": [],
   "source": [
    "%matplotlib inline"
   ]
  },
  {
   "cell_type": "code",
   "execution_count": 3,
   "metadata": {
    "collapsed": true
   },
   "outputs": [],
   "source": [
    "import matplotlib.pyplot as plt\n",
    "import matplotlib.image as mpimg\n",
    "import numpy as np\n",
    "from scipy import signal as sg\n",
    "from PIL import Image"
   ]
  },
  {
   "cell_type": "code",
   "execution_count": 4,
   "metadata": {
    "collapsed": true
   },
   "outputs": [],
   "source": [
    "#圖片變向量\n",
    "def imgfile2arr(fname):\n",
    "    return np.asarray(Image.open(fname).convert('L'), dtype=np.float32)\n",
    "def img2array(img):\n",
    "    return np.asarray(img, dtype=np.float32)\n",
    "#向量轉圖片\n",
    "def arr2img(arr):\n",
    "    return Image.fromarray(np.clip(arr,0,255).round().astype(np.uint8)).convert('L')"
   ]
  },
  {
   "cell_type": "code",
   "execution_count": 5,
   "metadata": {
    "collapsed": true
   },
   "outputs": [],
   "source": [
    "##hands record files\n",
    "## id\tage\tgender\tskinColor\taccessories\tnailPolish\taspectOfHand\timageName\tirregularities\n",
    "## 0     1    2         3            4          5            6              7            8       \n",
    "csvfilepath = 'HandInfo.csv'\n",
    "handimagepath = 'Hands'\n",
    "## 控制讀取圖檔上限\n",
    "readimgmax = 5000\n",
    "getcsvindex = 1    ## 1:年紀  2:性別"
   ]
  },
  {
   "cell_type": "code",
   "execution_count": null,
   "metadata": {
    "collapsed": false
   },
   "outputs": [
    {
     "name": "stdout",
     "output_type": "stream",
     "text": [
      "indic {'20': 1, '29': 7, '22': 3, '23': 5, '27': 0, '36': 9, '26': 4, '30': 6, '54': 11, '25': 10, '21': 2, '43': 8}\n",
      "len(indic) 12\n"
     ]
    }
   ],
   "source": [
    "indic = {}\n",
    "indicexchange = {}\n",
    "indiclst = []\n",
    "## 取得分析資料的所有類別\n",
    "labelindex = 0\n",
    "with open(csvfilepath, 'r') as fp:\n",
    "     lines=fp.readlines()\n",
    "     for line in lines[1:readimgmax]:\n",
    "         line = line.replace('\"', '')\n",
    "         s=line.split(',')   \n",
    "         if getcsvindex == 1:\n",
    "             label=s[1]\n",
    "         else:\n",
    "             if s[2] == 'male':\n",
    "                 label = 1 \n",
    "             else:\n",
    "                 label = 0\n",
    "         if label not in indiclst:\n",
    "             indiclst.append(label)\n",
    "             indic[label] = labelindex\n",
    "             indicexchange[labelindex] = label\n",
    "             labelindex += 1\n",
    "print('indic', indic)  \n",
    "print('len(indic)', len(indiclst))"
   ]
  },
  {
   "cell_type": "code",
   "execution_count": null,
   "metadata": {
    "collapsed": false
   },
   "outputs": [],
   "source": [
    "import pickle, os\n",
    "allimagearr = []\n",
    "\n",
    "\n",
    "with open(csvfilepath, 'r') as fp:\n",
    "     lines=fp.readlines()\n",
    "     for line in lines[1:readimgmax]:\n",
    "         line = line.replace('\"', '')\n",
    "         s=line.split(',')         \n",
    "         img = Image.open(handimagepath+os.sep+s[7].replace('\"', ''))\n",
    "         if img.mode != 'RGB':\n",
    "             img = img.convert('RGB')\n",
    "         img = img.resize((64, 64), resample=Image.LANCZOS)\n",
    "         raw_featrure= img2array(img)\n",
    "         #raw_label=np.array([float(int(s[0])),float(s[1]),float(1 if s[2]=='male' else 0)])\n",
    "         ##s[1] => s[1]:年紀  s[2]:性別\n",
    "         if getcsvindex == 1:\n",
    "             raw_label=[indic[s[1]]]\n",
    "         else:\n",
    "             ##raw_label=[indic[1 if s[2]=='male' else 0]]\n",
    "             raw_label=[indic[s[2]]]\n",
    "         content=[raw_featrure,raw_label]\n",
    "         allimagearr.append(content);\n",
    "\n",
    "\n",
    "with open('hands-1000.pkl', 'wb') as fp:\n",
    "     pickle.dump(allimagearr, fp, True)\n",
    "\n"
   ]
  },
  {
   "cell_type": "code",
   "execution_count": null,
   "metadata": {
    "collapsed": false,
    "scrolled": false
   },
   "outputs": [],
   "source": [
    "import pickle, os\n",
    "image_height = 64\n",
    "image_width  = 64\n",
    "num_channels = 3  # RGB\n",
    "imagearr=[]\n",
    "with open('hands-1000.pkl', 'rb') as fp:\n",
    "    imagearr=pickle.load(fp)\n",
    "    print(len(imagearr))\n",
    "    print(imagearr[0][0].shape)\n",
    "    #print(imagearr[0][1].shape)\n",
    "##show first image\n",
    "img=Image.fromarray(np.clip(imagearr[0][0],0,255).round().astype(np.uint8)).convert('RGB')\n",
    "plt.imshow(img)"
   ]
  },
  {
   "cell_type": "code",
   "execution_count": null,
   "metadata": {
    "collapsed": true
   },
   "outputs": [],
   "source": [
    "from sklearn.cross_validation import train_test_split"
   ]
  },
  {
   "cell_type": "code",
   "execution_count": null,
   "metadata": {
    "collapsed": false,
    "scrolled": false
   },
   "outputs": [],
   "source": [
    "trainDataSet, testDataSet = train_test_split(imagearr, test_size=0.2, random_state=42)\n",
    "print('訓練組數據筆數為：{0}'.format(len(trainDataSet)))\n",
    "print('測試組數據筆數為：{0}'.format(len(testDataSet)))"
   ]
  },
  {
   "cell_type": "code",
   "execution_count": null,
   "metadata": {
    "collapsed": false
   },
   "outputs": [],
   "source": [
    "trainData_img, trainData_label = [x[0]/255 for x in trainDataSet], [x[1] for x in trainDataSet]\n",
    "testData_img, testData_label = [x[0]/255 for x in testDataSet], [x[1] for x in testDataSet]"
   ]
  },
  {
   "cell_type": "code",
   "execution_count": null,
   "metadata": {
    "collapsed": false
   },
   "outputs": [],
   "source": [
    "#testData_img[0:2]"
   ]
  },
  {
   "cell_type": "code",
   "execution_count": null,
   "metadata": {
    "collapsed": false,
    "scrolled": true
   },
   "outputs": [],
   "source": [
    "trainData_img_normalize = np.asarray(trainData_img)\n",
    "testData_img_normalize = np.asarray(testData_img)\n",
    "##trainData_img_normalize.shape\n",
    "##(2399, 64, 64, 3)\n",
    "trainData_label_normalize = np.asarray(trainData_label)\n",
    "testData_label_normalize = np.asarray(testData_label)\n",
    "##trainData_label_normalize.shape\n",
    "##(2399, 1)\n"
   ]
  },
  {
   "cell_type": "code",
   "execution_count": null,
   "metadata": {
    "collapsed": false
   },
   "outputs": [],
   "source": [
    "from keras.utils import np_utils\n",
    "trainData_label_normalize_OneHot = np_utils.to_categorical(trainData_label_normalize)\n",
    "testData_label_normalize_OneHot = np_utils.to_categorical(testData_label_normalize)\n",
    "\n",
    "sampleV = '''\n",
    "trainData_label_normalize_OneHot\n",
    "array([[ 0.,  0.,  0., ...,  0.,  0.,  0.],\n",
    "       [ 0.,  0.,  0., ...,  0.,  0.,  0.],\n",
    "       [ 0.,  0.,  1., ...,  0.,  0.,  0.],\n",
    "'''       "
   ]
  },
  {
   "cell_type": "code",
   "execution_count": null,
   "metadata": {
    "collapsed": true
   },
   "outputs": [],
   "source": [
    "from keras.models import Sequential\n",
    "from keras.layers import Dense, Dropout, Activation, Flatten\n",
    "from keras.layers import Conv2D, MaxPooling2D, ZeroPadding2D"
   ]
  },
  {
   "cell_type": "code",
   "execution_count": null,
   "metadata": {
    "collapsed": true
   },
   "outputs": [],
   "source": [
    "model = Sequential()"
   ]
  },
  {
   "cell_type": "code",
   "execution_count": null,
   "metadata": {
    "collapsed": true
   },
   "outputs": [],
   "source": [
    "#卷積層1與池化層1"
   ]
  },
  {
   "cell_type": "code",
   "execution_count": null,
   "metadata": {
    "collapsed": true
   },
   "outputs": [],
   "source": [
    "model.add(Conv2D(filters=16,kernel_size=(3,3),\n",
    "                 input_shape=(64, 64, 3), \n",
    "                 activation='relu', \n",
    "                 padding='same'))"
   ]
  },
  {
   "cell_type": "code",
   "execution_count": null,
   "metadata": {
    "collapsed": true
   },
   "outputs": [],
   "source": [
    "model.add(Dropout(rate=0.3))"
   ]
  },
  {
   "cell_type": "code",
   "execution_count": null,
   "metadata": {
    "collapsed": true
   },
   "outputs": [],
   "source": [
    "model.add(MaxPooling2D(pool_size=(2, 2)))"
   ]
  },
  {
   "cell_type": "code",
   "execution_count": null,
   "metadata": {
    "collapsed": true
   },
   "outputs": [],
   "source": [
    "#卷積層2與池化層2"
   ]
  },
  {
   "cell_type": "code",
   "execution_count": null,
   "metadata": {
    "collapsed": true
   },
   "outputs": [],
   "source": [
    "model.add(Conv2D(filters=32, kernel_size=(3, 3),                   \n",
    "                 activation='relu', padding='same'))"
   ]
  },
  {
   "cell_type": "code",
   "execution_count": null,
   "metadata": {
    "collapsed": false
   },
   "outputs": [],
   "source": [
    "model.add(Dropout(0.3))"
   ]
  },
  {
   "cell_type": "code",
   "execution_count": null,
   "metadata": {
    "collapsed": false
   },
   "outputs": [],
   "source": [
    "model.add(MaxPooling2D(pool_size=(2, 2)))"
   ]
  },
  {
   "cell_type": "code",
   "execution_count": null,
   "metadata": {
    "collapsed": true
   },
   "outputs": [],
   "source": [
    "#Step3\t建立神經網路(平坦層、隱藏層、輸出層)"
   ]
  },
  {
   "cell_type": "code",
   "execution_count": null,
   "metadata": {
    "collapsed": true
   },
   "outputs": [],
   "source": [
    "model.add(Flatten())\n",
    "model.add(Dropout(rate=0.3))"
   ]
  },
  {
   "cell_type": "code",
   "execution_count": null,
   "metadata": {
    "collapsed": true
   },
   "outputs": [],
   "source": [
    "model.add(Dense(1024, activation='relu'))\n",
    "model.add(Dropout(rate=0.3))"
   ]
  },
  {
   "cell_type": "code",
   "execution_count": null,
   "metadata": {
    "collapsed": true
   },
   "outputs": [],
   "source": [
    "##輸出層  len(indiclst)"
   ]
  },
  {
   "cell_type": "code",
   "execution_count": null,
   "metadata": {
    "collapsed": true
   },
   "outputs": [],
   "source": [
    "model.add(Dense(len(indiclst), activation='softmax'))"
   ]
  },
  {
   "cell_type": "code",
   "execution_count": null,
   "metadata": {
    "collapsed": false,
    "scrolled": true
   },
   "outputs": [],
   "source": [
    "print(model.summary())"
   ]
  },
  {
   "cell_type": "markdown",
   "metadata": {},
   "source": [
    "# 載入之前訓練的模型"
   ]
  },
  {
   "cell_type": "code",
   "execution_count": null,
   "metadata": {
    "collapsed": true
   },
   "outputs": [],
   "source": [
    "passit = '''\n",
    "try:\n",
    "    model.load_weights(\"SaveModel/CNN-smaller_plk.h5\")\n",
    "    print(\"載入模型成功!繼續訓練模型\")\n",
    "except :    \n",
    "    print(\"載入模型失敗!開始訓練一個新模型\")\n",
    "'''"
   ]
  },
  {
   "cell_type": "code",
   "execution_count": null,
   "metadata": {
    "collapsed": true
   },
   "outputs": [],
   "source": [
    "model.compile(loss='categorical_crossentropy', optimizer='adam',\n",
    "              metrics=['accuracy'])"
   ]
  },
  {
   "cell_type": "code",
   "execution_count": null,
   "metadata": {
    "collapsed": false,
    "scrolled": true
   },
   "outputs": [],
   "source": [
    "train_history=model.fit(trainData_img_normalize, trainData_label_normalize_OneHot,\n",
    "                        validation_split=0.2,\n",
    "                        epochs=15, batch_size=50, verbose=2)  "
   ]
  },
  {
   "cell_type": "code",
   "execution_count": null,
   "metadata": {
    "collapsed": true
   },
   "outputs": [],
   "source": [
    "import matplotlib.pyplot as plt\n",
    "def show_train_history(train_acc,test_acc):\n",
    "    plt.plot(train_history.history[train_acc])\n",
    "    plt.plot(train_history.history[test_acc])\n",
    "    plt.title('Train History')\n",
    "    plt.ylabel('Accuracy')\n",
    "    plt.xlabel('Epoch')\n",
    "    plt.legend(['train', 'test'], loc='upper left')\n",
    "    plt.show()"
   ]
  },
  {
   "cell_type": "code",
   "execution_count": null,
   "metadata": {
    "collapsed": true
   },
   "outputs": [],
   "source": [
    "def show_Predicted_Probability(y, prediction, x_img_test, Predicted_Probability, i): \n",
    "    print('indicexchange', indicexchange)\n",
    "    print('label:',indicexchange[y[i][0]],\n",
    "          'predict:',indicexchange[prediction[i]])\n",
    "    plt.figure(figsize=(2,2))\n",
    "    plt.imshow(np.reshape(x_img_test[i],(64, 64, 3)))\n",
    "    plt.show()\n",
    "    for j in range(10):\n",
    "        print(indicexchange[j]+\n",
    "              ' Probability:%1.9f'%(Predicted_Probability[i][j]))"
   ]
  },
  {
   "cell_type": "markdown",
   "metadata": {},
   "source": [
    "# 評估模型準確率"
   ]
  },
  {
   "cell_type": "code",
   "execution_count": null,
   "metadata": {
    "collapsed": false,
    "scrolled": true
   },
   "outputs": [],
   "source": [
    "scores = model.evaluate(testData_img_normalize, \n",
    "                        testData_label_normalize_OneHot, verbose=2)\n",
    "scores[1]"
   ]
  },
  {
   "cell_type": "code",
   "execution_count": null,
   "metadata": {
    "collapsed": false
   },
   "outputs": [],
   "source": [
    "prediction=model.predict_classes(testData_img_normalize)"
   ]
  },
  {
   "cell_type": "code",
   "execution_count": null,
   "metadata": {
    "collapsed": false
   },
   "outputs": [],
   "source": [
    "prediction[0:20]"
   ]
  },
  {
   "cell_type": "code",
   "execution_count": null,
   "metadata": {
    "collapsed": true
   },
   "outputs": [],
   "source": [
    "Predicted_Probability=model.predict(testData_img_normalize)"
   ]
  },
  {
   "cell_type": "code",
   "execution_count": null,
   "metadata": {
    "collapsed": false,
    "scrolled": true
   },
   "outputs": [],
   "source": [
    "show_Predicted_Probability(testData_label, prediction,\n",
    "                           testData_img, Predicted_Probability, 0)"
   ]
  },
  {
   "cell_type": "code",
   "execution_count": null,
   "metadata": {
    "collapsed": false
   },
   "outputs": [],
   "source": []
  },
  {
   "cell_type": "code",
   "execution_count": null,
   "metadata": {
    "collapsed": false
   },
   "outputs": [],
   "source": [
    "import pandas as pd\n",
    "print(indic)\n",
    "pd.crosstab(testData_label_normalize.reshape(-1), prediction,\n",
    "            rownames=['label'],colnames=['predict'])"
   ]
  },
  {
   "cell_type": "code",
   "execution_count": null,
   "metadata": {
    "collapsed": false
   },
   "outputs": [],
   "source": [
    "model.save_weights(\"SaveModel/CNN-smaller_plk.h5\")\n",
    "print(\"Saved model to disk\")"
   ]
  }
 ],
 "metadata": {
  "anaconda-cloud": {},
  "kernelspec": {
   "display_name": "Python [conda root]",
   "language": "python",
   "name": "conda-root-py"
  },
  "language_info": {
   "codemirror_mode": {
    "name": "ipython",
    "version": 3
   },
   "file_extension": ".py",
   "mimetype": "text/x-python",
   "name": "python",
   "nbconvert_exporter": "python",
   "pygments_lexer": "ipython3",
   "version": "3.5.2"
  }
 },
 "nbformat": 4,
 "nbformat_minor": 1
}
